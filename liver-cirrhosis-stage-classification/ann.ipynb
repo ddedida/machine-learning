{
 "cells": [
  {
   "cell_type": "markdown",
   "metadata": {},
   "source": [
    "## Import Library"
   ]
  },
  {
   "cell_type": "code",
   "execution_count": 1,
   "metadata": {},
   "outputs": [],
   "source": [
    "import pandas as pd\n",
    "import numpy as np\n",
    "import matplotlib.pyplot as plt\n",
    "import seaborn as sns\n",
    "import warnings\n",
    "warnings.filterwarnings(\"ignore\")"
   ]
  },
  {
   "cell_type": "markdown",
   "metadata": {},
   "source": [
    "## Import Dataset"
   ]
  },
  {
   "cell_type": "code",
   "execution_count": 2,
   "metadata": {},
   "outputs": [
    {
     "data": {
      "text/html": [
       "<div>\n",
       "<style scoped>\n",
       "    .dataframe tbody tr th:only-of-type {\n",
       "        vertical-align: middle;\n",
       "    }\n",
       "\n",
       "    .dataframe tbody tr th {\n",
       "        vertical-align: top;\n",
       "    }\n",
       "\n",
       "    .dataframe thead th {\n",
       "        text-align: right;\n",
       "    }\n",
       "</style>\n",
       "<table border=\"1\" class=\"dataframe\">\n",
       "  <thead>\n",
       "    <tr style=\"text-align: right;\">\n",
       "      <th></th>\n",
       "      <th>Status</th>\n",
       "      <th>Drug</th>\n",
       "      <th>Age</th>\n",
       "      <th>Sex</th>\n",
       "      <th>Ascites</th>\n",
       "      <th>Hepatomegaly</th>\n",
       "      <th>Spiders</th>\n",
       "      <th>Edema</th>\n",
       "      <th>Bilirubin</th>\n",
       "      <th>Albumin</th>\n",
       "      <th>Copper</th>\n",
       "      <th>Alk_Phos</th>\n",
       "      <th>Tryglicerides</th>\n",
       "      <th>Platelets</th>\n",
       "      <th>Prothrombin</th>\n",
       "    </tr>\n",
       "  </thead>\n",
       "  <tbody>\n",
       "    <tr>\n",
       "      <th>0</th>\n",
       "      <td>-0.843470</td>\n",
       "      <td>-0.761301</td>\n",
       "      <td>1.685995</td>\n",
       "      <td>-0.359626</td>\n",
       "      <td>-0.698765</td>\n",
       "      <td>-0.800061</td>\n",
       "      <td>-0.914519</td>\n",
       "      <td>-0.231325</td>\n",
       "      <td>-0.595370</td>\n",
       "      <td>0.873178</td>\n",
       "      <td>-1.832760</td>\n",
       "      <td>-1.224928</td>\n",
       "      <td>0.099914</td>\n",
       "      <td>-0.790817</td>\n",
       "      <td>-0.286115</td>\n",
       "    </tr>\n",
       "    <tr>\n",
       "      <th>1</th>\n",
       "      <td>-0.843470</td>\n",
       "      <td>-0.761301</td>\n",
       "      <td>-0.416471</td>\n",
       "      <td>-0.359626</td>\n",
       "      <td>-0.698765</td>\n",
       "      <td>-0.800061</td>\n",
       "      <td>-0.914519</td>\n",
       "      <td>-0.231325</td>\n",
       "      <td>-0.595370</td>\n",
       "      <td>-0.670347</td>\n",
       "      <td>-0.340864</td>\n",
       "      <td>-2.039768</td>\n",
       "      <td>-0.142952</td>\n",
       "      <td>0.746393</td>\n",
       "      <td>-1.715299</td>\n",
       "    </tr>\n",
       "    <tr>\n",
       "      <th>2</th>\n",
       "      <td>-0.843470</td>\n",
       "      <td>-0.761301</td>\n",
       "      <td>0.374794</td>\n",
       "      <td>-0.359626</td>\n",
       "      <td>1.431096</td>\n",
       "      <td>-0.800061</td>\n",
       "      <td>1.093471</td>\n",
       "      <td>-0.231325</td>\n",
       "      <td>-0.404182</td>\n",
       "      <td>-0.670347</td>\n",
       "      <td>0.554369</td>\n",
       "      <td>0.827311</td>\n",
       "      <td>0.653064</td>\n",
       "      <td>-0.585090</td>\n",
       "      <td>-0.286115</td>\n",
       "    </tr>\n",
       "    <tr>\n",
       "      <th>3</th>\n",
       "      <td>-0.843470</td>\n",
       "      <td>-0.761301</td>\n",
       "      <td>-0.213660</td>\n",
       "      <td>-0.359626</td>\n",
       "      <td>1.431096</td>\n",
       "      <td>-0.800061</td>\n",
       "      <td>1.093471</td>\n",
       "      <td>-0.231325</td>\n",
       "      <td>-0.552884</td>\n",
       "      <td>-1.519286</td>\n",
       "      <td>-1.629561</td>\n",
       "      <td>-1.819608</td>\n",
       "      <td>-2.228271</td>\n",
       "      <td>-0.961707</td>\n",
       "      <td>0.857232</td>\n",
       "    </tr>\n",
       "    <tr>\n",
       "      <th>4</th>\n",
       "      <td>0.717124</td>\n",
       "      <td>1.313541</td>\n",
       "      <td>1.585873</td>\n",
       "      <td>-0.359626</td>\n",
       "      <td>-0.698765</td>\n",
       "      <td>-0.800061</td>\n",
       "      <td>-0.914519</td>\n",
       "      <td>-0.231325</td>\n",
       "      <td>0.233113</td>\n",
       "      <td>0.899236</td>\n",
       "      <td>1.000774</td>\n",
       "      <td>-0.528804</td>\n",
       "      <td>0.654651</td>\n",
       "      <td>0.269203</td>\n",
       "      <td>1.428906</td>\n",
       "    </tr>\n",
       "  </tbody>\n",
       "</table>\n",
       "</div>"
      ],
      "text/plain": [
       "     Status      Drug       Age       Sex   Ascites  Hepatomegaly   Spiders  \\\n",
       "0 -0.843470 -0.761301  1.685995 -0.359626 -0.698765     -0.800061 -0.914519   \n",
       "1 -0.843470 -0.761301 -0.416471 -0.359626 -0.698765     -0.800061 -0.914519   \n",
       "2 -0.843470 -0.761301  0.374794 -0.359626  1.431096     -0.800061  1.093471   \n",
       "3 -0.843470 -0.761301 -0.213660 -0.359626  1.431096     -0.800061  1.093471   \n",
       "4  0.717124  1.313541  1.585873 -0.359626 -0.698765     -0.800061 -0.914519   \n",
       "\n",
       "      Edema  Bilirubin   Albumin    Copper  Alk_Phos  Tryglicerides  \\\n",
       "0 -0.231325  -0.595370  0.873178 -1.832760 -1.224928       0.099914   \n",
       "1 -0.231325  -0.595370 -0.670347 -0.340864 -2.039768      -0.142952   \n",
       "2 -0.231325  -0.404182 -0.670347  0.554369  0.827311       0.653064   \n",
       "3 -0.231325  -0.552884 -1.519286 -1.629561 -1.819608      -2.228271   \n",
       "4 -0.231325   0.233113  0.899236  1.000774 -0.528804       0.654651   \n",
       "\n",
       "   Platelets  Prothrombin  \n",
       "0  -0.790817    -0.286115  \n",
       "1   0.746393    -1.715299  \n",
       "2  -0.585090    -0.286115  \n",
       "3  -0.961707     0.857232  \n",
       "4   0.269203     1.428906  "
      ]
     },
     "execution_count": 2,
     "metadata": {},
     "output_type": "execute_result"
    }
   ],
   "source": [
    "train_df = pd.read_csv('data_train.csv')\n",
    "x_train = train_df.drop(columns=['Stage'])\n",
    "y_train = train_df['Stage']\n",
    "x_train.head()"
   ]
  },
  {
   "cell_type": "code",
   "execution_count": 3,
   "metadata": {},
   "outputs": [
    {
     "data": {
      "text/html": [
       "<div>\n",
       "<style scoped>\n",
       "    .dataframe tbody tr th:only-of-type {\n",
       "        vertical-align: middle;\n",
       "    }\n",
       "\n",
       "    .dataframe tbody tr th {\n",
       "        vertical-align: top;\n",
       "    }\n",
       "\n",
       "    .dataframe thead th {\n",
       "        text-align: right;\n",
       "    }\n",
       "</style>\n",
       "<table border=\"1\" class=\"dataframe\">\n",
       "  <thead>\n",
       "    <tr style=\"text-align: right;\">\n",
       "      <th></th>\n",
       "      <th>Status</th>\n",
       "      <th>Drug</th>\n",
       "      <th>Age</th>\n",
       "      <th>Sex</th>\n",
       "      <th>Ascites</th>\n",
       "      <th>Hepatomegaly</th>\n",
       "      <th>Spiders</th>\n",
       "      <th>Edema</th>\n",
       "      <th>Bilirubin</th>\n",
       "      <th>Albumin</th>\n",
       "      <th>Copper</th>\n",
       "      <th>Alk_Phos</th>\n",
       "      <th>Tryglicerides</th>\n",
       "      <th>Platelets</th>\n",
       "      <th>Prothrombin</th>\n",
       "    </tr>\n",
       "  </thead>\n",
       "  <tbody>\n",
       "    <tr>\n",
       "      <th>0</th>\n",
       "      <td>0.717124</td>\n",
       "      <td>-0.761301</td>\n",
       "      <td>-0.845518</td>\n",
       "      <td>-0.359626</td>\n",
       "      <td>1.431096</td>\n",
       "      <td>-0.800061</td>\n",
       "      <td>1.093471</td>\n",
       "      <td>-0.231325</td>\n",
       "      <td>-0.276723</td>\n",
       "      <td>-0.207290</td>\n",
       "      <td>-1.874613</td>\n",
       "      <td>0.829351</td>\n",
       "      <td>-1.175287</td>\n",
       "      <td>0.735321</td>\n",
       "      <td>1.198622</td>\n",
       "    </tr>\n",
       "    <tr>\n",
       "      <th>1</th>\n",
       "      <td>-0.843470</td>\n",
       "      <td>-0.761301</td>\n",
       "      <td>-0.677394</td>\n",
       "      <td>-0.359626</td>\n",
       "      <td>1.431096</td>\n",
       "      <td>-0.800061</td>\n",
       "      <td>1.093471</td>\n",
       "      <td>-0.231325</td>\n",
       "      <td>-0.467911</td>\n",
       "      <td>-0.942112</td>\n",
       "      <td>0.554369</td>\n",
       "      <td>0.827311</td>\n",
       "      <td>0.653064</td>\n",
       "      <td>-0.154632</td>\n",
       "      <td>1.143069</td>\n",
       "    </tr>\n",
       "    <tr>\n",
       "      <th>2</th>\n",
       "      <td>0.717124</td>\n",
       "      <td>-0.761301</td>\n",
       "      <td>0.374794</td>\n",
       "      <td>-0.359626</td>\n",
       "      <td>1.431096</td>\n",
       "      <td>1.249905</td>\n",
       "      <td>1.093471</td>\n",
       "      <td>-0.231325</td>\n",
       "      <td>-0.552884</td>\n",
       "      <td>-0.817065</td>\n",
       "      <td>0.822884</td>\n",
       "      <td>0.258345</td>\n",
       "      <td>-1.840240</td>\n",
       "      <td>-0.937765</td>\n",
       "      <td>0.795829</td>\n",
       "    </tr>\n",
       "    <tr>\n",
       "      <th>3</th>\n",
       "      <td>-0.843470</td>\n",
       "      <td>1.313541</td>\n",
       "      <td>0.360760</td>\n",
       "      <td>-0.359626</td>\n",
       "      <td>-0.698765</td>\n",
       "      <td>1.249905</td>\n",
       "      <td>1.093471</td>\n",
       "      <td>4.322917</td>\n",
       "      <td>-0.531641</td>\n",
       "      <td>-1.359233</td>\n",
       "      <td>-0.465562</td>\n",
       "      <td>-1.840719</td>\n",
       "      <td>-0.075960</td>\n",
       "      <td>-0.148091</td>\n",
       "      <td>1.190551</td>\n",
       "    </tr>\n",
       "    <tr>\n",
       "      <th>4</th>\n",
       "      <td>0.717124</td>\n",
       "      <td>1.313541</td>\n",
       "      <td>-1.716647</td>\n",
       "      <td>-0.359626</td>\n",
       "      <td>-0.698765</td>\n",
       "      <td>1.249905</td>\n",
       "      <td>-0.914519</td>\n",
       "      <td>-0.231325</td>\n",
       "      <td>-0.043048</td>\n",
       "      <td>0.410121</td>\n",
       "      <td>-0.710614</td>\n",
       "      <td>0.246281</td>\n",
       "      <td>0.653064</td>\n",
       "      <td>1.707298</td>\n",
       "      <td>-1.429462</td>\n",
       "    </tr>\n",
       "  </tbody>\n",
       "</table>\n",
       "</div>"
      ],
      "text/plain": [
       "     Status      Drug       Age       Sex   Ascites  Hepatomegaly   Spiders  \\\n",
       "0  0.717124 -0.761301 -0.845518 -0.359626  1.431096     -0.800061  1.093471   \n",
       "1 -0.843470 -0.761301 -0.677394 -0.359626  1.431096     -0.800061  1.093471   \n",
       "2  0.717124 -0.761301  0.374794 -0.359626  1.431096      1.249905  1.093471   \n",
       "3 -0.843470  1.313541  0.360760 -0.359626 -0.698765      1.249905  1.093471   \n",
       "4  0.717124  1.313541 -1.716647 -0.359626 -0.698765      1.249905 -0.914519   \n",
       "\n",
       "      Edema  Bilirubin   Albumin    Copper  Alk_Phos  Tryglicerides  \\\n",
       "0 -0.231325  -0.276723 -0.207290 -1.874613  0.829351      -1.175287   \n",
       "1 -0.231325  -0.467911 -0.942112  0.554369  0.827311       0.653064   \n",
       "2 -0.231325  -0.552884 -0.817065  0.822884  0.258345      -1.840240   \n",
       "3  4.322917  -0.531641 -1.359233 -0.465562 -1.840719      -0.075960   \n",
       "4 -0.231325  -0.043048  0.410121 -0.710614  0.246281       0.653064   \n",
       "\n",
       "   Platelets  Prothrombin  \n",
       "0   0.735321     1.198622  \n",
       "1  -0.154632     1.143069  \n",
       "2  -0.937765     0.795829  \n",
       "3  -0.148091     1.190551  \n",
       "4   1.707298    -1.429462  "
      ]
     },
     "execution_count": 3,
     "metadata": {},
     "output_type": "execute_result"
    }
   ],
   "source": [
    "test_df = pd.read_csv('data_test.csv')\n",
    "x_test = test_df.drop(columns=['Stage'])\n",
    "y_test = test_df['Stage']\n",
    "x_test.head()"
   ]
  },
  {
   "cell_type": "markdown",
   "metadata": {},
   "source": [
    "## ANN"
   ]
  },
  {
   "cell_type": "code",
   "execution_count": 4,
   "metadata": {},
   "outputs": [
    {
     "name": "stdout",
     "output_type": "stream",
     "text": [
      "Requirement already satisfied: tensorflow in c:\\users\\hp\\appdata\\local\\programs\\python\\python312\\lib\\site-packages (2.16.1)\n",
      "Note: you may need to restart the kernel to use updated packages.\n"
     ]
    },
    {
     "name": "stderr",
     "output_type": "stream",
     "text": [
      "ERROR: Could not find a version that satisfies the requirement distutils (from versions: none)\n",
      "ERROR: No matching distribution found for distutils\n"
     ]
    }
   ],
   "source": [
    "%pip install tensorflow distutils"
   ]
  },
  {
   "cell_type": "code",
   "execution_count": 5,
   "metadata": {},
   "outputs": [],
   "source": [
    "from tensorflow.keras.models import Sequential\n",
    "from tensorflow.keras.layers import Dense\n",
    "from sklearn.metrics import accuracy_score"
   ]
  },
  {
   "cell_type": "code",
   "execution_count": 15,
   "metadata": {},
   "outputs": [
    {
     "name": "stdout",
     "output_type": "stream",
     "text": [
      "Epoch 1/50\n",
      "\u001b[1m4000/4000\u001b[0m \u001b[32m━━━━━━━━━━━━━━━━━━━━\u001b[0m\u001b[37m\u001b[0m \u001b[1m3s\u001b[0m 521us/step - loss: 0.8713\n",
      "Epoch 2/50\n",
      "\u001b[1m4000/4000\u001b[0m \u001b[32m━━━━━━━━━━━━━━━━━━━━\u001b[0m\u001b[37m\u001b[0m \u001b[1m2s\u001b[0m 522us/step - loss: 0.3960\n",
      "Epoch 3/50\n",
      "\u001b[1m4000/4000\u001b[0m \u001b[32m━━━━━━━━━━━━━━━━━━━━\u001b[0m\u001b[37m\u001b[0m \u001b[1m2s\u001b[0m 527us/step - loss: 0.3736\n",
      "Epoch 4/50\n",
      "\u001b[1m4000/4000\u001b[0m \u001b[32m━━━━━━━━━━━━━━━━━━━━\u001b[0m\u001b[37m\u001b[0m \u001b[1m2s\u001b[0m 585us/step - loss: 0.3529\n",
      "Epoch 5/50\n",
      "\u001b[1m4000/4000\u001b[0m \u001b[32m━━━━━━━━━━━━━━━━━━━━\u001b[0m\u001b[37m\u001b[0m \u001b[1m2s\u001b[0m 608us/step - loss: 0.3436\n",
      "Epoch 6/50\n",
      "\u001b[1m4000/4000\u001b[0m \u001b[32m━━━━━━━━━━━━━━━━━━━━\u001b[0m\u001b[37m\u001b[0m \u001b[1m3s\u001b[0m 622us/step - loss: 0.3409\n",
      "Epoch 7/50\n",
      "\u001b[1m4000/4000\u001b[0m \u001b[32m━━━━━━━━━━━━━━━━━━━━\u001b[0m\u001b[37m\u001b[0m \u001b[1m2s\u001b[0m 604us/step - loss: 0.3361\n",
      "Epoch 8/50\n",
      "\u001b[1m4000/4000\u001b[0m \u001b[32m━━━━━━━━━━━━━━━━━━━━\u001b[0m\u001b[37m\u001b[0m \u001b[1m2s\u001b[0m 593us/step - loss: 0.3273\n",
      "Epoch 9/50\n",
      "\u001b[1m4000/4000\u001b[0m \u001b[32m━━━━━━━━━━━━━━━━━━━━\u001b[0m\u001b[37m\u001b[0m \u001b[1m3s\u001b[0m 624us/step - loss: 0.3271\n",
      "Epoch 10/50\n",
      "\u001b[1m4000/4000\u001b[0m \u001b[32m━━━━━━━━━━━━━━━━━━━━\u001b[0m\u001b[37m\u001b[0m \u001b[1m2s\u001b[0m 610us/step - loss: 0.3268\n",
      "Epoch 11/50\n",
      "\u001b[1m4000/4000\u001b[0m \u001b[32m━━━━━━━━━━━━━━━━━━━━\u001b[0m\u001b[37m\u001b[0m \u001b[1m2s\u001b[0m 610us/step - loss: 0.3165\n",
      "Epoch 12/50\n",
      "\u001b[1m4000/4000\u001b[0m \u001b[32m━━━━━━━━━━━━━━━━━━━━\u001b[0m\u001b[37m\u001b[0m \u001b[1m3s\u001b[0m 622us/step - loss: 0.3273\n",
      "Epoch 13/50\n",
      "\u001b[1m4000/4000\u001b[0m \u001b[32m━━━━━━━━━━━━━━━━━━━━\u001b[0m\u001b[37m\u001b[0m \u001b[1m2s\u001b[0m 609us/step - loss: 0.3193\n",
      "Epoch 14/50\n",
      "\u001b[1m4000/4000\u001b[0m \u001b[32m━━━━━━━━━━━━━━━━━━━━\u001b[0m\u001b[37m\u001b[0m \u001b[1m2s\u001b[0m 615us/step - loss: 0.3115\n",
      "Epoch 15/50\n",
      "\u001b[1m4000/4000\u001b[0m \u001b[32m━━━━━━━━━━━━━━━━━━━━\u001b[0m\u001b[37m\u001b[0m \u001b[1m2s\u001b[0m 601us/step - loss: 0.3043\n",
      "Epoch 16/50\n",
      "\u001b[1m4000/4000\u001b[0m \u001b[32m━━━━━━━━━━━━━━━━━━━━\u001b[0m\u001b[37m\u001b[0m \u001b[1m3s\u001b[0m 631us/step - loss: 0.3027\n",
      "Epoch 17/50\n",
      "\u001b[1m4000/4000\u001b[0m \u001b[32m━━━━━━━━━━━━━━━━━━━━\u001b[0m\u001b[37m\u001b[0m \u001b[1m2s\u001b[0m 602us/step - loss: 0.3045\n",
      "Epoch 18/50\n",
      "\u001b[1m4000/4000\u001b[0m \u001b[32m━━━━━━━━━━━━━━━━━━━━\u001b[0m\u001b[37m\u001b[0m \u001b[1m2s\u001b[0m 618us/step - loss: 0.3033\n",
      "Epoch 19/50\n",
      "\u001b[1m4000/4000\u001b[0m \u001b[32m━━━━━━━━━━━━━━━━━━━━\u001b[0m\u001b[37m\u001b[0m \u001b[1m2s\u001b[0m 614us/step - loss: 0.3055\n",
      "Epoch 20/50\n",
      "\u001b[1m4000/4000\u001b[0m \u001b[32m━━━━━━━━━━━━━━━━━━━━\u001b[0m\u001b[37m\u001b[0m \u001b[1m3s\u001b[0m 622us/step - loss: 0.3076\n",
      "Epoch 21/50\n",
      "\u001b[1m4000/4000\u001b[0m \u001b[32m━━━━━━━━━━━━━━━━━━━━\u001b[0m\u001b[37m\u001b[0m \u001b[1m2s\u001b[0m 615us/step - loss: 0.3041\n",
      "Epoch 22/50\n",
      "\u001b[1m4000/4000\u001b[0m \u001b[32m━━━━━━━━━━━━━━━━━━━━\u001b[0m\u001b[37m\u001b[0m \u001b[1m2s\u001b[0m 617us/step - loss: 0.2959\n",
      "Epoch 23/50\n",
      "\u001b[1m4000/4000\u001b[0m \u001b[32m━━━━━━━━━━━━━━━━━━━━\u001b[0m\u001b[37m\u001b[0m \u001b[1m2s\u001b[0m 587us/step - loss: 0.2929\n",
      "Epoch 24/50\n",
      "\u001b[1m4000/4000\u001b[0m \u001b[32m━━━━━━━━━━━━━━━━━━━━\u001b[0m\u001b[37m\u001b[0m \u001b[1m2s\u001b[0m 571us/step - loss: 0.2913\n",
      "Epoch 25/50\n",
      "\u001b[1m4000/4000\u001b[0m \u001b[32m━━━━━━━━━━━━━━━━━━━━\u001b[0m\u001b[37m\u001b[0m \u001b[1m2s\u001b[0m 580us/step - loss: 0.2947\n",
      "Epoch 26/50\n",
      "\u001b[1m4000/4000\u001b[0m \u001b[32m━━━━━━━━━━━━━━━━━━━━\u001b[0m\u001b[37m\u001b[0m \u001b[1m2s\u001b[0m 568us/step - loss: 0.2938\n",
      "Epoch 27/50\n",
      "\u001b[1m4000/4000\u001b[0m \u001b[32m━━━━━━━━━━━━━━━━━━━━\u001b[0m\u001b[37m\u001b[0m \u001b[1m2s\u001b[0m 568us/step - loss: 0.2891\n",
      "Epoch 28/50\n",
      "\u001b[1m4000/4000\u001b[0m \u001b[32m━━━━━━━━━━━━━━━━━━━━\u001b[0m\u001b[37m\u001b[0m \u001b[1m2s\u001b[0m 568us/step - loss: 0.2892\n",
      "Epoch 29/50\n",
      "\u001b[1m4000/4000\u001b[0m \u001b[32m━━━━━━━━━━━━━━━━━━━━\u001b[0m\u001b[37m\u001b[0m \u001b[1m2s\u001b[0m 575us/step - loss: 0.2929\n",
      "Epoch 30/50\n",
      "\u001b[1m4000/4000\u001b[0m \u001b[32m━━━━━━━━━━━━━━━━━━━━\u001b[0m\u001b[37m\u001b[0m \u001b[1m2s\u001b[0m 581us/step - loss: 0.2903\n",
      "Epoch 31/50\n",
      "\u001b[1m4000/4000\u001b[0m \u001b[32m━━━━━━━━━━━━━━━━━━━━\u001b[0m\u001b[37m\u001b[0m \u001b[1m2s\u001b[0m 569us/step - loss: 0.2865\n",
      "Epoch 32/50\n",
      "\u001b[1m4000/4000\u001b[0m \u001b[32m━━━━━━━━━━━━━━━━━━━━\u001b[0m\u001b[37m\u001b[0m \u001b[1m2s\u001b[0m 602us/step - loss: 0.2925\n",
      "Epoch 33/50\n",
      "\u001b[1m4000/4000\u001b[0m \u001b[32m━━━━━━━━━━━━━━━━━━━━\u001b[0m\u001b[37m\u001b[0m \u001b[1m2s\u001b[0m 598us/step - loss: 0.2926\n",
      "Epoch 34/50\n",
      "\u001b[1m4000/4000\u001b[0m \u001b[32m━━━━━━━━━━━━━━━━━━━━\u001b[0m\u001b[37m\u001b[0m \u001b[1m2s\u001b[0m 538us/step - loss: 0.2871\n",
      "Epoch 35/50\n",
      "\u001b[1m4000/4000\u001b[0m \u001b[32m━━━━━━━━━━━━━━━━━━━━\u001b[0m\u001b[37m\u001b[0m \u001b[1m2s\u001b[0m 510us/step - loss: 0.2891\n",
      "Epoch 36/50\n",
      "\u001b[1m4000/4000\u001b[0m \u001b[32m━━━━━━━━━━━━━━━━━━━━\u001b[0m\u001b[37m\u001b[0m \u001b[1m2s\u001b[0m 499us/step - loss: 0.2860\n",
      "Epoch 37/50\n",
      "\u001b[1m4000/4000\u001b[0m \u001b[32m━━━━━━━━━━━━━━━━━━━━\u001b[0m\u001b[37m\u001b[0m \u001b[1m2s\u001b[0m 501us/step - loss: 0.2851\n",
      "Epoch 38/50\n",
      "\u001b[1m4000/4000\u001b[0m \u001b[32m━━━━━━━━━━━━━━━━━━━━\u001b[0m\u001b[37m\u001b[0m \u001b[1m2s\u001b[0m 509us/step - loss: 0.2782\n",
      "Epoch 39/50\n",
      "\u001b[1m4000/4000\u001b[0m \u001b[32m━━━━━━━━━━━━━━━━━━━━\u001b[0m\u001b[37m\u001b[0m \u001b[1m2s\u001b[0m 503us/step - loss: 0.2818\n",
      "Epoch 40/50\n",
      "\u001b[1m4000/4000\u001b[0m \u001b[32m━━━━━━━━━━━━━━━━━━━━\u001b[0m\u001b[37m\u001b[0m \u001b[1m2s\u001b[0m 498us/step - loss: 0.2767\n",
      "Epoch 41/50\n",
      "\u001b[1m4000/4000\u001b[0m \u001b[32m━━━━━━━━━━━━━━━━━━━━\u001b[0m\u001b[37m\u001b[0m \u001b[1m2s\u001b[0m 497us/step - loss: 0.2825\n",
      "Epoch 42/50\n",
      "\u001b[1m4000/4000\u001b[0m \u001b[32m━━━━━━━━━━━━━━━━━━━━\u001b[0m\u001b[37m\u001b[0m \u001b[1m2s\u001b[0m 508us/step - loss: 0.2807\n",
      "Epoch 43/50\n",
      "\u001b[1m4000/4000\u001b[0m \u001b[32m━━━━━━━━━━━━━━━━━━━━\u001b[0m\u001b[37m\u001b[0m \u001b[1m2s\u001b[0m 505us/step - loss: 0.2766\n",
      "Epoch 44/50\n",
      "\u001b[1m4000/4000\u001b[0m \u001b[32m━━━━━━━━━━━━━━━━━━━━\u001b[0m\u001b[37m\u001b[0m \u001b[1m2s\u001b[0m 509us/step - loss: 0.2843\n",
      "Epoch 45/50\n",
      "\u001b[1m4000/4000\u001b[0m \u001b[32m━━━━━━━━━━━━━━━━━━━━\u001b[0m\u001b[37m\u001b[0m \u001b[1m2s\u001b[0m 504us/step - loss: 0.2859\n",
      "Epoch 46/50\n",
      "\u001b[1m4000/4000\u001b[0m \u001b[32m━━━━━━━━━━━━━━━━━━━━\u001b[0m\u001b[37m\u001b[0m \u001b[1m2s\u001b[0m 506us/step - loss: 0.2815\n",
      "Epoch 47/50\n",
      "\u001b[1m4000/4000\u001b[0m \u001b[32m━━━━━━━━━━━━━━━━━━━━\u001b[0m\u001b[37m\u001b[0m \u001b[1m2s\u001b[0m 515us/step - loss: 0.2797\n",
      "Epoch 48/50\n",
      "\u001b[1m4000/4000\u001b[0m \u001b[32m━━━━━━━━━━━━━━━━━━━━\u001b[0m\u001b[37m\u001b[0m \u001b[1m2s\u001b[0m 503us/step - loss: 0.2872\n",
      "Epoch 49/50\n",
      "\u001b[1m4000/4000\u001b[0m \u001b[32m━━━━━━━━━━━━━━━━━━━━\u001b[0m\u001b[37m\u001b[0m \u001b[1m2s\u001b[0m 517us/step - loss: 0.2790\n",
      "Epoch 50/50\n",
      "\u001b[1m4000/4000\u001b[0m \u001b[32m━━━━━━━━━━━━━━━━━━━━\u001b[0m\u001b[37m\u001b[0m \u001b[1m2s\u001b[0m 514us/step - loss: 0.2784\n"
     ]
    },
    {
     "data": {
      "text/plain": [
       "<keras.src.callbacks.history.History at 0x2c21fc7ddf0>"
      ]
     },
     "execution_count": 15,
     "metadata": {},
     "output_type": "execute_result"
    }
   ],
   "source": [
    "ann_model = Sequential()\n",
    "ann_model.add(Dense(32, input_dim=15, activation='relu'))\n",
    "ann_model.add(Dense(16, activation='relu'))\n",
    "ann_model.add(Dense(1))\n",
    "\n",
    "ann_model.compile(optimizer='adam', loss='mean_squared_error')\n",
    "\n",
    "ann_model.fit(x_train, y_train, epochs=50, batch_size=5)"
   ]
  },
  {
   "cell_type": "code",
   "execution_count": 17,
   "metadata": {},
   "outputs": [
    {
     "name": "stdout",
     "output_type": "stream",
     "text": [
      "\u001b[1m157/157\u001b[0m \u001b[32m━━━━━━━━━━━━━━━━━━━━\u001b[0m\u001b[37m\u001b[0m \u001b[1m0s\u001b[0m 501us/step\n"
     ]
    }
   ],
   "source": [
    "ann_model_pred = ann_model.predict(x_test)"
   ]
  },
  {
   "cell_type": "code",
   "execution_count": 18,
   "metadata": {},
   "outputs": [
    {
     "name": "stdout",
     "output_type": "stream",
     "text": [
      "ANN Accuracy Score: 0.6804\n"
     ]
    }
   ],
   "source": [
    "print('ANN Accuracy Score:', accuracy_score(y_test, ann_model_pred.round()))"
   ]
  },
  {
   "cell_type": "markdown",
   "metadata": {},
   "source": [
    "## Hyperparameter Tuning"
   ]
  },
  {
   "cell_type": "code",
   "execution_count": 19,
   "metadata": {},
   "outputs": [
    {
     "name": "stdout",
     "output_type": "stream",
     "text": [
      "Requirement already satisfied: keras-tuner in c:\\users\\hp\\appdata\\local\\programs\\python\\python312\\lib\\site-packages (1.4.7)\n",
      "Requirement already satisfied: keras in c:\\users\\hp\\appdata\\local\\programs\\python\\python312\\lib\\site-packages (from keras-tuner) (3.3.3)\n",
      "Requirement already satisfied: packaging in c:\\users\\hp\\appdata\\roaming\\python\\python312\\site-packages (from keras-tuner) (24.0)\n",
      "Requirement already satisfied: requests in c:\\users\\hp\\appdata\\local\\programs\\python\\python312\\lib\\site-packages (from keras-tuner) (2.31.0)\n",
      "Requirement already satisfied: kt-legacy in c:\\users\\hp\\appdata\\local\\programs\\python\\python312\\lib\\site-packages (from keras-tuner) (1.0.5)\n",
      "Requirement already satisfied: absl-py in c:\\users\\hp\\appdata\\local\\programs\\python\\python312\\lib\\site-packages (from keras->keras-tuner) (2.1.0)\n",
      "Requirement already satisfied: numpy in c:\\users\\hp\\appdata\\local\\programs\\python\\python312\\lib\\site-packages (from keras->keras-tuner) (1.26.4)\n",
      "Requirement already satisfied: rich in c:\\users\\hp\\appdata\\local\\programs\\python\\python312\\lib\\site-packages (from keras->keras-tuner) (13.7.1)\n",
      "Requirement already satisfied: namex in c:\\users\\hp\\appdata\\local\\programs\\python\\python312\\lib\\site-packages (from keras->keras-tuner) (0.0.8)\n",
      "Requirement already satisfied: h5py in c:\\users\\hp\\appdata\\local\\programs\\python\\python312\\lib\\site-packages (from keras->keras-tuner) (3.11.0)\n",
      "Requirement already satisfied: optree in c:\\users\\hp\\appdata\\local\\programs\\python\\python312\\lib\\site-packages (from keras->keras-tuner) (0.11.0)\n",
      "Requirement already satisfied: ml-dtypes in c:\\users\\hp\\appdata\\local\\programs\\python\\python312\\lib\\site-packages (from keras->keras-tuner) (0.3.2)\n",
      "Requirement already satisfied: charset-normalizer<4,>=2 in c:\\users\\hp\\appdata\\local\\programs\\python\\python312\\lib\\site-packages (from requests->keras-tuner) (3.3.2)\n",
      "Requirement already satisfied: idna<4,>=2.5 in c:\\users\\hp\\appdata\\local\\programs\\python\\python312\\lib\\site-packages (from requests->keras-tuner) (3.7)\n",
      "Requirement already satisfied: urllib3<3,>=1.21.1 in c:\\users\\hp\\appdata\\local\\programs\\python\\python312\\lib\\site-packages (from requests->keras-tuner) (2.2.1)\n",
      "Requirement already satisfied: certifi>=2017.4.17 in c:\\users\\hp\\appdata\\local\\programs\\python\\python312\\lib\\site-packages (from requests->keras-tuner) (2024.2.2)\n",
      "Requirement already satisfied: typing-extensions>=4.0.0 in c:\\users\\hp\\appdata\\local\\programs\\python\\python312\\lib\\site-packages (from optree->keras->keras-tuner) (4.11.0)\n",
      "Requirement already satisfied: markdown-it-py>=2.2.0 in c:\\users\\hp\\appdata\\local\\programs\\python\\python312\\lib\\site-packages (from rich->keras->keras-tuner) (3.0.0)\n",
      "Requirement already satisfied: pygments<3.0.0,>=2.13.0 in c:\\users\\hp\\appdata\\roaming\\python\\python312\\site-packages (from rich->keras->keras-tuner) (2.18.0)\n",
      "Requirement already satisfied: mdurl~=0.1 in c:\\users\\hp\\appdata\\local\\programs\\python\\python312\\lib\\site-packages (from markdown-it-py>=2.2.0->rich->keras->keras-tuner) (0.1.2)\n",
      "Note: you may need to restart the kernel to use updated packages.\n"
     ]
    }
   ],
   "source": [
    "%pip install keras-tuner"
   ]
  },
  {
   "cell_type": "code",
   "execution_count": 20,
   "metadata": {},
   "outputs": [],
   "source": [
    "from kerastuner import HyperModel, RandomSearch"
   ]
  },
  {
   "cell_type": "code",
   "execution_count": 21,
   "metadata": {},
   "outputs": [],
   "source": [
    "class RegressionHyperModel(HyperModel):\n",
    "    def build(self, hp):\n",
    "        model = Sequential()\n",
    "        model.add(Dense(\n",
    "            units=hp.Int('units_input', min_value=32, max_value=128, step=16),\n",
    "            activation='relu',\n",
    "            input_dim=x_train.shape[1]\n",
    "        ))\n",
    "        for i in range(hp.Int('num_layers', 1, 3)):\n",
    "            model.add(Dense(\n",
    "                units=hp.Int(f'units_{i}', min_value=32, max_value=128, step=16),\n",
    "                activation='relu'\n",
    "            ))\n",
    "        model.add(Dense(1))  # Output layer untuk regresi\n",
    "        model.compile(\n",
    "            optimizer=hp.Choice('optimizer', ['adam', 'rmsprop']),\n",
    "            loss='mean_squared_error'\n",
    "        )\n",
    "        return model"
   ]
  },
  {
   "cell_type": "code",
   "execution_count": 22,
   "metadata": {},
   "outputs": [],
   "source": [
    "hypermodel = RegressionHyperModel()"
   ]
  },
  {
   "cell_type": "code",
   "execution_count": 23,
   "metadata": {},
   "outputs": [],
   "source": [
    "tuner = RandomSearch(\n",
    "    hypermodel,\n",
    "    objective='val_loss',\n",
    "    max_trials=10,\n",
    "    executions_per_trial=2,\n",
    "    directory='hyperparam_tuning',\n",
    "    project_name='regression_model'\n",
    ")"
   ]
  },
  {
   "cell_type": "code",
   "execution_count": 25,
   "metadata": {},
   "outputs": [
    {
     "name": "stdout",
     "output_type": "stream",
     "text": [
      "Trial 10 Complete [00h 02m 00s]\n",
      "val_loss: 0.24717632681131363\n",
      "\n",
      "Best val_loss So Far: 0.24717632681131363\n",
      "Total elapsed time: 00h 18m 23s\n"
     ]
    }
   ],
   "source": [
    "tuner.search(x_train, y_train, epochs=25, validation_split=0.2, batch_size=5)"
   ]
  },
  {
   "cell_type": "code",
   "execution_count": 26,
   "metadata": {},
   "outputs": [],
   "source": [
    "best = tuner.get_best_hyperparameters(num_trials=1)[0]"
   ]
  },
  {
   "cell_type": "code",
   "execution_count": 29,
   "metadata": {},
   "outputs": [
    {
     "name": "stdout",
     "output_type": "stream",
     "text": [
      "Epoch 1/10\n",
      "\u001b[1m4000/4000\u001b[0m \u001b[32m━━━━━━━━━━━━━━━━━━━━\u001b[0m\u001b[37m\u001b[0m \u001b[1m3s\u001b[0m 579us/step - loss: 0.5224\n",
      "Epoch 2/10\n",
      "\u001b[1m4000/4000\u001b[0m \u001b[32m━━━━━━━━━━━━━━━━━━━━\u001b[0m\u001b[37m\u001b[0m \u001b[1m3s\u001b[0m 621us/step - loss: 0.3505\n",
      "Epoch 3/10\n",
      "\u001b[1m4000/4000\u001b[0m \u001b[32m━━━━━━━━━━━━━━━━━━━━\u001b[0m\u001b[37m\u001b[0m \u001b[1m3s\u001b[0m 638us/step - loss: 0.3143\n",
      "Epoch 4/10\n",
      "\u001b[1m4000/4000\u001b[0m \u001b[32m━━━━━━━━━━━━━━━━━━━━\u001b[0m\u001b[37m\u001b[0m \u001b[1m3s\u001b[0m 740us/step - loss: 0.2939\n",
      "Epoch 5/10\n",
      "\u001b[1m4000/4000\u001b[0m \u001b[32m━━━━━━━━━━━━━━━━━━━━\u001b[0m\u001b[37m\u001b[0m \u001b[1m3s\u001b[0m 679us/step - loss: 0.2717\n",
      "Epoch 6/10\n",
      "\u001b[1m4000/4000\u001b[0m \u001b[32m━━━━━━━━━━━━━━━━━━━━\u001b[0m\u001b[37m\u001b[0m \u001b[1m3s\u001b[0m 660us/step - loss: 0.2603\n",
      "Epoch 7/10\n",
      "\u001b[1m4000/4000\u001b[0m \u001b[32m━━━━━━━━━━━━━━━━━━━━\u001b[0m\u001b[37m\u001b[0m \u001b[1m3s\u001b[0m 657us/step - loss: 0.2435\n",
      "Epoch 8/10\n",
      "\u001b[1m4000/4000\u001b[0m \u001b[32m━━━━━━━━━━━━━━━━━━━━\u001b[0m\u001b[37m\u001b[0m \u001b[1m3s\u001b[0m 734us/step - loss: 0.2250\n",
      "Epoch 9/10\n",
      "\u001b[1m4000/4000\u001b[0m \u001b[32m━━━━━━━━━━━━━━━━━━━━\u001b[0m\u001b[37m\u001b[0m \u001b[1m3s\u001b[0m 678us/step - loss: 0.2217\n",
      "Epoch 10/10\n",
      "\u001b[1m4000/4000\u001b[0m \u001b[32m━━━━━━━━━━━━━━━━━━━━\u001b[0m\u001b[37m\u001b[0m \u001b[1m3s\u001b[0m 648us/step - loss: 0.2120\n"
     ]
    },
    {
     "data": {
      "text/plain": [
       "<keras.src.callbacks.history.History at 0x2c22205b950>"
      ]
     },
     "execution_count": 29,
     "metadata": {},
     "output_type": "execute_result"
    }
   ],
   "source": [
    "ann_model_tuning = tuner.hypermodel.build(best)\n",
    "ann_model_tuning.fit(x_train, y_train, epochs=10, batch_size=5)"
   ]
  },
  {
   "cell_type": "code",
   "execution_count": 30,
   "metadata": {},
   "outputs": [
    {
     "name": "stdout",
     "output_type": "stream",
     "text": [
      "\u001b[1m157/157\u001b[0m \u001b[32m━━━━━━━━━━━━━━━━━━━━\u001b[0m\u001b[37m\u001b[0m \u001b[1m0s\u001b[0m 764us/step\n"
     ]
    }
   ],
   "source": [
    "ann_model_tuning_pred = ann_model_tuning.predict(x_test)"
   ]
  },
  {
   "cell_type": "code",
   "execution_count": 31,
   "metadata": {},
   "outputs": [
    {
     "name": "stdout",
     "output_type": "stream",
     "text": [
      "Tuned ANN Accuracy Score: 0.734\n"
     ]
    }
   ],
   "source": [
    "print('Tuned ANN Accuracy Score:', accuracy_score(y_test, ann_model_tuning_pred.round()))"
   ]
  },
  {
   "cell_type": "markdown",
   "metadata": {},
   "source": [
    "## Hasil"
   ]
  },
  {
   "cell_type": "markdown",
   "metadata": {},
   "source": [
    "Skor Accuracy:\n",
    "- Sebelum tuning: 0.6804\n",
    "- Setelah tuning: 0.734"
   ]
  }
 ],
 "metadata": {
  "kernelspec": {
   "display_name": "Python 3",
   "language": "python",
   "name": "python3"
  },
  "language_info": {
   "codemirror_mode": {
    "name": "ipython",
    "version": 3
   },
   "file_extension": ".py",
   "mimetype": "text/x-python",
   "name": "python",
   "nbconvert_exporter": "python",
   "pygments_lexer": "ipython3",
   "version": "3.12.3"
  }
 },
 "nbformat": 4,
 "nbformat_minor": 2
}
