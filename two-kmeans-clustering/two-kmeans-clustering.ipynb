{
 "cells": [
  {
   "cell_type": "code",
   "execution_count": 1,
   "metadata": {},
   "outputs": [],
   "source": [
    "import csv\n",
    "import math\n",
    "import matplotlib.pyplot as plt"
   ]
  },
  {
   "cell_type": "code",
   "execution_count": 18,
   "metadata": {},
   "outputs": [
    {
     "name": "stdout",
     "output_type": "stream",
     "text": [
      "Data:  [(1.0, 1.0), (1.5, 2.0), (3.0, 4.0), (5.0, 7.0), (3.5, 5.0), (4.5, 5.0), (3.5, 4.5)]\n",
      "Centroid:  (1.0, 1.0) (5.0, 7.0)\n"
     ]
    }
   ],
   "source": [
    "x = []\n",
    "y = []\n",
    "filename = 'data.csv'\n",
    "\n",
    "with open(filename, 'r') as file:\n",
    "    csv_reader = csv.DictReader(file)\n",
    "    for row in csv_reader:\n",
    "        x.append(float(row['X']))\n",
    "        y.append(float(row['Y']))\n",
    "\n",
    "data = list(zip(x, y))\n",
    "centroid1 = data[0]\n",
    "centroid2 = data[3]\n",
    "print(\"Data: \", data)\n",
    "print(\"Centroid: \", centroid1, centroid2)"
   ]
  },
  {
   "cell_type": "code",
   "execution_count": 19,
   "metadata": {},
   "outputs": [
    {
     "name": "stdout",
     "output_type": "stream",
     "text": [
      "Iteration:  2\n",
      "Cluster 1:  [(1.0, 1.0), (1.5, 2.0)]\n",
      "Cluster 2:  [(3.0, 4.0), (5.0, 7.0), (3.5, 5.0), (4.5, 5.0), (3.5, 4.5)]\n",
      "Centroid 1:  [1.25, 1.5]\n",
      "Centroid 2:  [3.9, 5.1]\n"
     ]
    }
   ],
   "source": [
    "cluster1 = []\n",
    "cluster2 = []\n",
    "iteration = 0\n",
    "\n",
    "while(True):\n",
    "    flag_centroid1 = centroid1\n",
    "    flag_centroid2 = centroid2\n",
    "\n",
    "    for i in data:\n",
    "        c1 = math.sqrt(pow((i[0] - centroid1[0]), 2) + pow((i[1] - centroid1[1]), 2))\n",
    "        c2 = math.sqrt(pow((i[0] - centroid2[0]), 2) + pow((i[1] - centroid2[1]), 2))\n",
    "        \n",
    "        if(c1 < c2):\n",
    "            cluster1.append(i)\n",
    "        else:\n",
    "            cluster2.append(i)\n",
    "\n",
    "    x_sum = 0\n",
    "    y_sum = 0\n",
    "\n",
    "    for i in cluster1:\n",
    "        x_sum += i[0]\n",
    "        y_sum += i[1]\n",
    "\n",
    "    centroid1 = [round((x_sum / len(cluster1)), 2), round((y_sum / len(cluster1)), 2)]\n",
    "\n",
    "    x_sum = 0\n",
    "    y_sum = 0\n",
    "\n",
    "    for i in cluster2:\n",
    "        x_sum += i[0]\n",
    "        y_sum += i[1]\n",
    "\n",
    "    centroid2 = [round((x_sum / len(cluster2)), 2), round((y_sum / len(cluster2)), 2)]\n",
    "\n",
    "    iteration += 1\n",
    "\n",
    "    if(centroid1 == flag_centroid1 and centroid2 == flag_centroid2):\n",
    "        break;\n",
    "    \n",
    "    cluster1 = []\n",
    "    cluster2 = []\n",
    "\n",
    "print(\"Iteration: \", iteration)\n",
    "print(\"Cluster 1: \", cluster1)\n",
    "print(\"Cluster 2: \", cluster2)\n",
    "print(\"Centroid 1: \", centroid1)\n",
    "print(\"Centroid 2: \", centroid2)"
   ]
  },
  {
   "cell_type": "code",
   "execution_count": 20,
   "metadata": {},
   "outputs": [
    {
     "data": {
      "image/png": "[encoded data removed]",
      "text/plain": [
       "<Figure size 640x480 with 1 Axes>"
      ]
     },
     "metadata": {},
     "output_type": "display_data"
    }
   ],
   "source": [
    "x1, y1 = zip(*cluster1)\n",
    "x2, y2 = zip(*cluster2)\n",
    "\n",
    "plt.scatter(x1, y1, color='blue', label='Cluster 1')\n",
    "plt.scatter(x2, y2, color='red', label='Cluster 2')\n",
    "\n",
    "plt.legend()\n",
    "\n",
    "plt.xlabel('X')\n",
    "plt.ylabel('Y')\n",
    "plt.title('Clustering Result')\n",
    "plt.show()"
   ]
  }
 ],
 "metadata": {
  "kernelspec": {
   "display_name": "Python 3",
   "language": "python",
   "name": "python3"
  },
  "language_info": {
   "codemirror_mode": {
    "name": "ipython",
    "version": 3
   },
   "file_extension": ".py",
   "mimetype": "text/x-python",
   "name": "python",
   "nbconvert_exporter": "python",
   "pygments_lexer": "ipython3",
   "version": "3.12.1"
  }
 },
 "nbformat": 4,
 "nbformat_minor": 2
}
